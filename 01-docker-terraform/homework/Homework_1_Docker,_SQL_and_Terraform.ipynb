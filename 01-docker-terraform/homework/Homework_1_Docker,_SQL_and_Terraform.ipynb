{
  "cells": [
    {
      "cell_type": "markdown",
      "source": [
        "# **Homework 1: Docker, SQL and Terraform for Data Engineering Zoomcamp 2025**"
      ],
      "metadata": {
        "id": "3U4yuhC8um3g"
      }
    },
    {
      "cell_type": "code",
      "source": [
        "import pandas as pd\n",
        "\n",
        "# Load the dataset\n",
        "df = pd.read_csv(\"sample_data/green_tripdata_2019-10.csv.gz\")\n",
        "\n",
        "# Display the first few rows\n",
        "print(df.head())\n",
        "\n",
        "# Ensure that the date column is in datetime format\n",
        "df['lpep_pickup_datetime'] = pd.to_datetime(df['lpep_pickup_datetime'])\n"
      ],
      "metadata": {
        "id": "kCXD6PBeif8z",
        "outputId": "e94d3c3d-1b07-4b43-d447-d78aa7f510cd",
        "colab": {
          "base_uri": "https://localhost:8080/"
        }
      },
      "execution_count": null,
      "outputs": [
        {
          "output_type": "stream",
          "name": "stderr",
          "text": [
            "<ipython-input-6-0fbd6207b8ea>:4: DtypeWarning: Columns (3) have mixed types. Specify dtype option on import or set low_memory=False.\n",
            "  df = pd.read_csv(\"sample_data/green_tripdata_2019-10.csv.gz\")\n"
          ]
        },
        {
          "output_type": "stream",
          "name": "stdout",
          "text": [
            "   VendorID lpep_pickup_datetime lpep_dropoff_datetime store_and_fwd_flag  \\\n",
            "0       2.0  2019-10-01 00:26:02   2019-10-01 00:39:58                  N   \n",
            "1       1.0  2019-10-01 00:18:11   2019-10-01 00:22:38                  N   \n",
            "2       1.0  2019-10-01 00:09:31   2019-10-01 00:24:47                  N   \n",
            "3       1.0  2019-10-01 00:37:40   2019-10-01 00:41:49                  N   \n",
            "4       2.0  2019-10-01 00:08:13   2019-10-01 00:17:56                  N   \n",
            "\n",
            "   RatecodeID  PULocationID  DOLocationID  passenger_count  trip_distance  \\\n",
            "0         1.0           112           196              1.0           5.88   \n",
            "1         1.0            43           263              1.0           0.80   \n",
            "2         1.0           255           228              2.0           7.50   \n",
            "3         1.0           181           181              1.0           0.90   \n",
            "4         1.0            97           188              1.0           2.52   \n",
            "\n",
            "   fare_amount  extra  mta_tax  tip_amount  tolls_amount  ehail_fee  \\\n",
            "0         18.0   0.50      0.5        0.00           0.0        NaN   \n",
            "1          5.0   3.25      0.5        0.00           0.0        NaN   \n",
            "2         21.5   0.50      0.5        0.00           0.0        NaN   \n",
            "3          5.5   0.50      0.5        0.00           0.0        NaN   \n",
            "4         10.0   0.50      0.5        2.26           0.0        NaN   \n",
            "\n",
            "   improvement_surcharge  total_amount  payment_type  trip_type  \\\n",
            "0                    0.3         19.30           2.0        1.0   \n",
            "1                    0.3          9.05           2.0        1.0   \n",
            "2                    0.3         22.80           2.0        1.0   \n",
            "3                    0.3          6.80           2.0        1.0   \n",
            "4                    0.3         13.56           1.0        1.0   \n",
            "\n",
            "   congestion_surcharge  \n",
            "0                   0.0  \n",
            "1                   0.0  \n",
            "2                   0.0  \n",
            "3                   0.0  \n",
            "4                   0.0  \n"
          ]
        }
      ]
    },
    {
      "cell_type": "code",
      "source": [
        "start_date = \"2019-10-01\"\n",
        "end_date = \"2019-11-01\"\n",
        "\n",
        "df_filtered = df[(df['lpep_pickup_datetime'] >= start_date) & (df['lpep_pickup_datetime'] < end_date)]\n"
      ],
      "metadata": {
        "id": "ms61gWa2k0Ff"
      },
      "execution_count": null,
      "outputs": []
    },
    {
      "cell_type": "code",
      "source": [
        "# Categorize by distance\n",
        "up_to_1_mile = df_filtered[df_filtered['trip_distance'] <= 1]\n",
        "between_1_and_3_miles = df_filtered[(df_filtered['trip_distance'] > 1) & (df_filtered['trip_distance'] <= 3)]\n",
        "between_3_and_7_miles = df_filtered[(df_filtered['trip_distance'] > 3) & (df_filtered['trip_distance'] <= 7)]\n",
        "between_7_and_10_miles = df_filtered[(df_filtered['trip_distance'] > 7) & (df_filtered['trip_distance'] <= 10)]\n",
        "over_10_miles = df_filtered[df_filtered['trip_distance'] > 10]\n"
      ],
      "metadata": {
        "id": "egtPU4ofk7pB"
      },
      "execution_count": null,
      "outputs": []
    },
    {
      "cell_type": "code",
      "source": [
        "count_up_to_1_mile = len(up_to_1_mile)\n",
        "count_1_to_3_miles = len(between_1_and_3_miles)\n",
        "count_3_to_7_miles = len(between_3_and_7_miles)\n",
        "count_7_to_10_miles = len(between_7_and_10_miles)\n",
        "count_over_10_miles = len(over_10_miles)\n",
        "\n",
        "print(count_up_to_1_mile, count_1_to_3_miles, count_3_to_7_miles, count_7_to_10_miles, count_over_10_miles)\n"
      ],
      "metadata": {
        "id": "YOsNNKjGlMhD",
        "outputId": "5a03c21b-4a3b-4d78-9604-7e52efc875c6",
        "colab": {
          "base_uri": "https://localhost:8080/"
        }
      },
      "execution_count": null,
      "outputs": [
        {
          "output_type": "stream",
          "name": "stdout",
          "text": [
            "104830 198995 109642 27686 35201\n"
          ]
        }
      ]
    },
    {
      "cell_type": "code",
      "source": [
        "# Extract the date from the pickup_datetime column\n",
        "df['lpep_pickup_datetime'] = df['lpep_pickup_datetime'].dt.date\n",
        "\n",
        "# Find the longest trip distance for each day\n",
        "longest_trip_per_day = df.groupby('lpep_pickup_datetime')['trip_distance'].max()\n"
      ],
      "metadata": {
        "id": "mTiAsE1blkjE"
      },
      "execution_count": null,
      "outputs": []
    },
    {
      "cell_type": "code",
      "source": [
        "# Find the date with the longest trip distance\n",
        "longest_trip_day = longest_trip_per_day.idxmax()\n",
        "longest_trip_day_distance = longest_trip_per_day.max()\n",
        "\n",
        "print(longest_trip_day, longest_trip_day_distance)\n"
      ],
      "metadata": {
        "id": "e7cbNIzmlrFS",
        "outputId": "c49e6f5b-8509-4b11-8e42-60f50cd51bb1",
        "colab": {
          "base_uri": "https://localhost:8080/"
        }
      },
      "execution_count": null,
      "outputs": [
        {
          "output_type": "stream",
          "name": "stdout",
          "text": [
            "2019-10-31 515.89\n"
          ]
        }
      ]
    },
    {
      "cell_type": "code",
      "source": [
        "# Ensure the lpep_pickup_datetime column is in datetime format\n",
        "df['lpep_pickup_datetime'] = pd.to_datetime(df['lpep_pickup_datetime'])"
      ],
      "metadata": {
        "id": "iZD-FJv2l4Wp"
      },
      "execution_count": null,
      "outputs": []
    },
    {
      "cell_type": "code",
      "source": [
        "# Filter for trips that happened on 2019-10-18\n",
        "df_filtered = df[df['lpep_pickup_datetime'].dt.date == pd.to_datetime('2019-10-18').date()]\n"
      ],
      "metadata": {
        "id": "u0jZNEKPl6GA"
      },
      "execution_count": null,
      "outputs": []
    },
    {
      "cell_type": "code",
      "source": [
        "# Group by pickup zone and sum total_amount\n",
        "pickup_zone_totals = df_filtered.groupby('PULocationID')['total_amount'].sum()\n",
        "\n",
        "# Filter zones with total_amount over 13,000\n",
        "filtered_zones = pickup_zone_totals[pickup_zone_totals > 13000]\n"
      ],
      "metadata": {
        "id": "KWaaZZ-gl95U"
      },
      "execution_count": null,
      "outputs": []
    },
    {
      "cell_type": "code",
      "source": [
        "# Sort the zones by total_amount in descending order\n",
        "top_zones = filtered_zones.sort_values(ascending=False).head(3)\n",
        "\n",
        "# Print the top three pickup zones\n",
        "print(top_zones)\n"
      ],
      "metadata": {
        "id": "xKYU5uqloVTh",
        "outputId": "78ef4169-cfa3-4f88-cfbd-56bab9414081",
        "colab": {
          "base_uri": "https://localhost:8080/"
        }
      },
      "execution_count": null,
      "outputs": [
        {
          "output_type": "stream",
          "name": "stdout",
          "text": [
            "PULocationID\n",
            "74     18686.68\n",
            "75     16797.26\n",
            "166    13029.79\n",
            "Name: total_amount, dtype: float64\n"
          ]
        }
      ]
    },
    {
      "cell_type": "code",
      "source": [
        "# Filter for October 2019 and East Harlem North pickup zone\n",
        "df_filtered_x = df[(df['PULocationID'] == 74) &\n",
        "                 (df['lpep_pickup_datetime'].dt.month == 10) &\n",
        "                 (df['lpep_pickup_datetime'].dt.year == 2019)]\n",
        "\n",
        "print(df_filtered_x)\n"
      ],
      "metadata": {
        "id": "1Ff3mBB9ooM6",
        "outputId": "d91871c8-10e5-471d-87be-aace41a6a7b9",
        "colab": {
          "base_uri": "https://localhost:8080/"
        }
      },
      "execution_count": null,
      "outputs": [
        {
          "output_type": "stream",
          "name": "stdout",
          "text": [
            "        VendorID lpep_pickup_datetime lpep_dropoff_datetime  \\\n",
            "49           2.0           2019-10-01   2019-10-01 00:43:02   \n",
            "54           2.0           2019-10-01   2019-10-01 00:09:30   \n",
            "63           2.0           2019-10-01   2019-10-01 00:34:21   \n",
            "70           2.0           2019-10-01   2019-10-01 00:34:06   \n",
            "73           2.0           2019-10-01   2019-10-01 00:51:17   \n",
            "...          ...                  ...                   ...   \n",
            "475898       NaN           2019-10-31   2019-10-31 18:15:00   \n",
            "476027       NaN           2019-10-31   2019-10-31 18:21:00   \n",
            "476075       NaN           2019-10-31   2019-10-31 18:55:00   \n",
            "476108       NaN           2019-10-31   2019-10-31 18:55:00   \n",
            "476340       NaN           2019-10-31   2019-10-31 22:43:00   \n",
            "\n",
            "       store_and_fwd_flag  RatecodeID  PULocationID  DOLocationID  \\\n",
            "49                      N         1.0            74            74   \n",
            "54                      N         1.0            74           168   \n",
            "63                      N         1.0            74           168   \n",
            "70                      N         1.0            74            75   \n",
            "73                      N         1.0            74           239   \n",
            "...                   ...         ...           ...           ...   \n",
            "475898                NaN         NaN            74            71   \n",
            "476027                NaN         NaN            74            74   \n",
            "476075                NaN         NaN            74           116   \n",
            "476108                NaN         NaN            74            78   \n",
            "476340                NaN         NaN            74            39   \n",
            "\n",
            "        passenger_count  trip_distance  fare_amount  extra  mta_tax  \\\n",
            "49                  1.0           0.00         2.50   0.50      0.5   \n",
            "54                  1.0           1.31         6.50   0.50      0.5   \n",
            "63                  2.0           1.25         7.50   0.50      0.5   \n",
            "70                  1.0           0.83         4.50   0.50      0.5   \n",
            "73                  1.0           3.06        12.50   0.50      0.5   \n",
            "...                 ...            ...          ...    ...      ...   \n",
            "475898              NaN          15.20        42.12   2.75      0.5   \n",
            "476027              NaN           0.06        17.49   2.75      0.5   \n",
            "476075              NaN           3.64        17.49   2.75      0.5   \n",
            "476108              NaN           5.13        24.61   2.75      0.5   \n",
            "476340              NaN          21.20        36.73   2.75      0.5   \n",
            "\n",
            "        tip_amount  tolls_amount  ehail_fee  improvement_surcharge  \\\n",
            "49            35.0          0.00        NaN                    0.3   \n",
            "54             0.0          0.00        NaN                    0.3   \n",
            "63             0.0          0.00        NaN                    0.3   \n",
            "70             0.0          0.00        NaN                    0.3   \n",
            "73             0.0          0.00        NaN                    0.3   \n",
            "...            ...           ...        ...                    ...   \n",
            "475898         0.0          6.12        NaN                    0.0   \n",
            "476027         0.0          0.00        NaN                    0.0   \n",
            "476075         0.0          0.00        NaN                    0.0   \n",
            "476108         0.0          0.00        NaN                    0.0   \n",
            "476340         0.0          6.12        NaN                    0.0   \n",
            "\n",
            "        total_amount  payment_type  trip_type  congestion_surcharge  \n",
            "49             38.80           1.0        1.0                  0.00  \n",
            "54              7.80           1.0        1.0                  0.00  \n",
            "63              8.80           2.0        1.0                  0.00  \n",
            "70              5.80           2.0        1.0                  0.00  \n",
            "73             16.55           2.0        1.0                  2.75  \n",
            "...              ...           ...        ...                   ...  \n",
            "475898         51.49           NaN        NaN                   NaN  \n",
            "476027         20.74           NaN        NaN                   NaN  \n",
            "476075         20.74           NaN        NaN                   NaN  \n",
            "476108         27.86           NaN        NaN                   NaN  \n",
            "476340         46.10           NaN        NaN                   NaN  \n",
            "\n",
            "[37371 rows x 20 columns]\n"
          ]
        }
      ]
    },
    {
      "cell_type": "code",
      "source": [
        "# Group by dropoff zone and sum the tips\n",
        "dropoff_zone_tips = df_filtered_x.groupby('DOLocationID')['tip_amount'].sum()\n",
        "\n",
        "# Find the dropoff zone with the largest total tip\n",
        "largest_tip_zone = dropoff_zone_tips.idxmax()\n",
        "print(largest_tip_zone)\n"
      ],
      "metadata": {
        "id": "qCyte026ov8S",
        "outputId": "813ebffb-a11e-48bf-b1a5-dd09f6f494c0",
        "colab": {
          "base_uri": "https://localhost:8080/"
        }
      },
      "execution_count": null,
      "outputs": [
        {
          "output_type": "stream",
          "name": "stdout",
          "text": [
            "236\n"
          ]
        }
      ]
    },
    {
      "cell_type": "code",
      "source": [
        "# Group by dropoff zone and sum the tips\n",
        "dropoff_zone_tips_x = df_filtered_x.groupby('PULocationID')['tip_amount'].sum()\n",
        "\n",
        "# Find the dropoff zone with the largest total tip\n",
        "largest_tip_zone_x = dropoff_zone_tips_x.idxmax()\n",
        "print(largest_tip_zone_x)"
      ],
      "metadata": {
        "id": "DZeb0xPYuN5a",
        "outputId": "550c68ea-cd2f-4182-a83c-d10a0c606849",
        "colab": {
          "base_uri": "https://localhost:8080/"
        }
      },
      "execution_count": null,
      "outputs": [
        {
          "output_type": "stream",
          "name": "stdout",
          "text": [
            "74\n"
          ]
        }
      ]
    }
  ],
  "metadata": {
    "colab": {
      "toc_visible": true,
      "provenance": []
    },
    "kernelspec": {
      "display_name": "Python 3",
      "name": "python3"
    }
  },
  "nbformat": 4,
  "nbformat_minor": 0
}